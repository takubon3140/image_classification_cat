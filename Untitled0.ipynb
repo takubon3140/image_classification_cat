{
  "nbformat": 4,
  "nbformat_minor": 0,
  "metadata": {
    "colab": {
      "name": "Untitled0.ipynb",
      "provenance": [],
      "authorship_tag": "ABX9TyOJV7ZNQxE3FP71R57gbp4x",
      "include_colab_link": true
    },
    "kernelspec": {
      "name": "python3",
      "display_name": "Python 3"
    },
    "language_info": {
      "name": "python"
    },
    "accelerator": "GPU"
  },
  "cells": [
    {
      "cell_type": "markdown",
      "metadata": {
        "id": "view-in-github",
        "colab_type": "text"
      },
      "source": [
        "<a href=\"https://colab.research.google.com/github/takubon3140/image_classification_cat/blob/main/Untitled0.ipynb\" target=\"_parent\"><img src=\"https://colab.research.google.com/assets/colab-badge.svg\" alt=\"Open In Colab\"/></a>"
      ]
    },
    {
      "cell_type": "markdown",
      "metadata": {
        "id": "IBhPYtcAUGCK"
      },
      "source": [
        ""
      ]
    },
    {
      "cell_type": "markdown",
      "metadata": {
        "id": "0wjUIyU3OlSx"
      },
      "source": [
        "# 画像集める"
      ]
    },
    {
      "cell_type": "code",
      "metadata": {
        "colab": {
          "base_uri": "https://localhost:8080/"
        },
        "id": "UfNTXFzyLcRU",
        "outputId": "0bb3029e-d399-4028-9d4c-9ced03be2695"
      },
      "source": [
        "!pip install icrawler"
      ],
      "execution_count": 6,
      "outputs": [
        {
          "output_type": "stream",
          "name": "stdout",
          "text": [
            "Collecting icrawler\n",
            "  Downloading icrawler-0.6.6-py2.py3-none-any.whl (35 kB)\n",
            "Requirement already satisfied: Pillow in /usr/local/lib/python3.7/dist-packages (from icrawler) (7.1.2)\n",
            "Requirement already satisfied: six>=1.10.0 in /usr/local/lib/python3.7/dist-packages (from icrawler) (1.15.0)\n",
            "Requirement already satisfied: requests>=2.9.1 in /usr/local/lib/python3.7/dist-packages (from icrawler) (2.23.0)\n",
            "Requirement already satisfied: lxml in /usr/local/lib/python3.7/dist-packages (from icrawler) (4.2.6)\n",
            "Requirement already satisfied: beautifulsoup4>=4.4.1 in /usr/local/lib/python3.7/dist-packages (from icrawler) (4.6.3)\n",
            "Requirement already satisfied: chardet<4,>=3.0.2 in /usr/local/lib/python3.7/dist-packages (from requests>=2.9.1->icrawler) (3.0.4)\n",
            "Requirement already satisfied: certifi>=2017.4.17 in /usr/local/lib/python3.7/dist-packages (from requests>=2.9.1->icrawler) (2021.5.30)\n",
            "Requirement already satisfied: idna<3,>=2.5 in /usr/local/lib/python3.7/dist-packages (from requests>=2.9.1->icrawler) (2.10)\n",
            "Requirement already satisfied: urllib3!=1.25.0,!=1.25.1,<1.26,>=1.21.1 in /usr/local/lib/python3.7/dist-packages (from requests>=2.9.1->icrawler) (1.24.3)\n",
            "Installing collected packages: icrawler\n",
            "Successfully installed icrawler-0.6.6\n"
          ]
        }
      ]
    },
    {
      "cell_type": "code",
      "metadata": {
        "colab": {
          "base_uri": "https://localhost:8080/"
        },
        "id": "KjcxW1KGL-x6",
        "outputId": "c0964df3-08df-48f3-e86a-27e1218c1abe"
      },
      "source": [
        "from icrawler.builtin import BingImageCrawler\n",
        "\n",
        "# 猫の画像を100枚取得\n",
        "crawler = BingImageCrawler(storage={\"root_dir\": \"cat\"})\n",
        "crawler.crawl(keyword=\"猫\", max_num=100)"
      ],
      "execution_count": 7,
      "outputs": [
        {
          "output_type": "stream",
          "name": "stderr",
          "text": [
            "2021-10-01 01:22:36,955 - INFO - icrawler.crawler - start crawling...\n",
            "2021-10-01 01:22:36,956 - INFO - icrawler.crawler - starting 1 feeder threads...\n",
            "2021-10-01 01:22:36,964 - INFO - feeder - thread feeder-001 exit\n",
            "2021-10-01 01:22:36,965 - INFO - icrawler.crawler - starting 1 parser threads...\n",
            "2021-10-01 01:22:36,975 - INFO - icrawler.crawler - starting 1 downloader threads...\n",
            "2021-10-01 01:22:37,431 - INFO - parser - parsing result page https://www.bing.com/images/async?q=猫&first=0\n",
            "2021-10-01 01:22:40,462 - INFO - downloader - image #1\thttps://img.zcool.cn/community/0160875c7cda32a801203d226e0076.jpg\n",
            "2021-10-01 01:22:42,057 - INFO - downloader - image #2\thttps://img.zcool.cn/community/01a1365c7cda34a801213f26fe09b3.jpg\n",
            "2021-10-01 01:22:43,537 - INFO - downloader - image #3\thttps://pic2.zhimg.com/v2-66c2763d073f4463320ab3a8cd0afd22_r.jpg\n",
            "2021-10-01 01:22:44,094 - INFO - downloader - image #4\thttps://pic1.zhimg.com/v2-373c78d1e07c3be76890c8fa85940340_720w.jpg\n",
            "2021-10-01 01:22:45,445 - INFO - downloader - image #5\thttps://img.zcool.cn/community/01e8635c7cda32a801203d22e1528b.jpg\n",
            "2021-10-01 01:22:46,563 - INFO - downloader - image #6\thttps://img.zcool.cn/community/0188af5d39062ba80120695c109d2e.jpg\n",
            "2021-10-01 01:22:47,831 - INFO - downloader - image #7\thttps://img.zcool.cn/community/01eafb5d2b3736a8012148379339e3.jpg\n",
            "2021-10-01 01:22:48,699 - INFO - downloader - image #8\thttps://pic4.zhimg.com/v2-35c76e51c107e0b39a621733c54c17a8_r.jpg\n",
            "2021-10-01 01:22:50,953 - INFO - downloader - image #9\thttps://img.zcool.cn/community/0165375568d24c0000012716c6c6f0.jpg\n",
            "2021-10-01 01:22:52,292 - INFO - downloader - image #10\thttps://img.zcool.cn/community/018e635d39062ca8012187f44e8763.jpg\n",
            "2021-10-01 01:22:53,431 - INFO - downloader - image #11\thttps://img.zcool.cn/community/01aa135d2b373ba80120b5abbca161.jpg\n",
            "2021-10-01 01:22:54,371 - INFO - downloader - image #12\thttps://img.zcool.cn/community/0111d45d2b3738a80121483734873a.jpg\n",
            "2021-10-01 01:22:56,061 - INFO - downloader - image #13\thttp://up.moxiu.me/pic/a5/37/57/a53757545d193533c9708d42b103afa5.jpg\n",
            "2021-10-01 01:22:56,798 - INFO - downloader - image #14\thttps://pic4.zhimg.com/v2-67b36af9cea11f0ffa0f819b16c76282_r.jpg\n",
            "2021-10-01 01:22:56,930 - INFO - downloader - image #15\thttps://pic4.zhimg.com/v2-c61aac4dd23a24b5b0ed3ca3584cb7d7_r.jpg\n",
            "2021-10-01 01:22:57,062 - INFO - downloader - image #16\thttps://pic4.zhimg.com/v2-7815db3cad2d6594b12222dd24490657_r.jpg\n",
            "2021-10-01 01:22:57,436 - ERROR - downloader - Response status code 404, file https://img.zcool.cn/community/0153385e040c2da801216518c27ce9.jpg\n",
            "2021-10-01 01:22:57,588 - INFO - downloader - image #17\thttps://pic1.zhimg.com/v2-633bbc3b5fc05dfc7587ff79acbfeb2b_r.jpg\n",
            "2021-10-01 01:22:57,842 - INFO - downloader - image #18\thttps://pic4.zhimg.com/v2-ae9128beadc9a6121d50bbfa87d1d44d_r.jpg\n",
            "2021-10-01 01:23:00,105 - INFO - parser - parsing result page https://www.bing.com/images/async?q=猫&first=20\n",
            "2021-10-01 01:23:01,753 - INFO - downloader - image #19\thttp://pic.cgcep.com/1509592725703.jpg\n",
            "2021-10-01 01:23:03,476 - INFO - downloader - image #20\thttps://img.zcool.cn/community/011e895ce748b1a801208f8b5d11c7.jpg\n",
            "2021-10-01 01:23:04,912 - INFO - downloader - image #21\thttp://img.zcool.cn/community/01100356ff4cc532f875a9444a341b.jpg\n",
            "2021-10-01 01:23:05,179 - INFO - downloader - image #22\thttps://pic1.zhimg.com/v2-1beeb967cf62a8d0f780dde349d7bb4c_r.jpg\n",
            "2021-10-01 01:23:05,262 - INFO - downloader - image #23\thttps://pic1.zhimg.com/v2-58d3be512275aa1c7e458dfea4d0142b_r.jpg\n",
            "2021-10-01 01:23:08,260 - INFO - downloader - image #24\thttp://pc.chuangyezong.com/data/file/20200104/2020010482130.jpg\n",
            "2021-10-01 01:23:08,982 - INFO - downloader - image #25\thttps://img.zcool.cn/community/01c0665543065f0000019ae92d2f01.jpg\n",
            "2021-10-01 01:23:10,154 - INFO - downloader - image #26\thttps://img.zcool.cn/community/01982c5d3907f7a8012187f4f9b16c.jpg\n",
            "2021-10-01 01:23:11,557 - INFO - downloader - image #27\thttps://img.zcool.cn/community/0146d25d96bb97a8012060be8b4497.jpg\n",
            "2021-10-01 01:23:12,471 - INFO - downloader - image #28\thttps://img.zcool.cn/community/0152d55d39124aa8012187f44219c5.jpg\n",
            "2021-10-01 01:23:13,216 - INFO - downloader - image #29\thttps://pic4.zhimg.com/v2-1fe7d9c7bb8d2c1d3e80fa33bfaa7037_r.jpg\n",
            "2021-10-01 01:23:13,387 - INFO - downloader - image #30\thttps://pic2.zhimg.com/dbc574a17ebfce1747a0ec36cb0c25c6_r.jpg\n",
            "2021-10-01 01:23:15,835 - INFO - downloader - image #31\thttps://img.zcool.cn/community/01810f5d65f13fa80120695cff59cd.jpg\n",
            "2021-10-01 01:23:16,358 - INFO - downloader - image #32\thttps://picb.zhimg.com/v2-8c7756cebbe180572ac5c94b33ab59d3_r.jpg\n",
            "2021-10-01 01:23:16,618 - INFO - parser - parsing result page https://www.bing.com/images/async?q=猫&first=40\n",
            "2021-10-01 01:23:17,609 - INFO - downloader - image #33\thttp://i2.hdslb.com/bfs/archive/23b83550356d6752e373b914e36be32c8409dbe5.jpg\n",
            "2021-10-01 01:23:17,692 - INFO - downloader - image #34\thttps://pic1.zhimg.com/v2-5d151a2a831ef12fc1a7d69e20228082_r.jpg\n",
            "2021-10-01 01:23:18,989 - INFO - downloader - image #35\thttps://uploadfile.bizhizu.cn/up/81/91/30/8191302f5aa008e608ff4e5ce0d1c70f.jpg\n",
            "2021-10-01 01:23:20,570 - INFO - downloader - image #36\thttps://img.zcool.cn/community/01b9675d39166aa80120695c48d1ff.jpg\n",
            "2021-10-01 01:23:20,765 - INFO - downloader - image #37\thttps://pic2.zhimg.com/v2-996dc999deb68a4e6fd06c592ca1f40a_r.jpg\n",
            "2021-10-01 01:23:20,884 - INFO - downloader - image #38\thttps://pic1.zhimg.com/v2-ae4d918a1b5311bc44465c6efc808eac_r.jpg\n",
            "2021-10-01 01:23:21,136 - INFO - downloader - image #39\thttps://pic4.zhimg.com/v2-3aa820f6c450768c395a2d72b3abda1f_r.jpg\n",
            "2021-10-01 01:23:21,589 - INFO - downloader - image #40\thttps://pic3.zhimg.com/v2-85cda1f63375fc10f53b9167ed77940f_r.jpg\n",
            "2021-10-01 01:23:21,780 - INFO - downloader - image #41\thttps://pic1.zhimg.com/v2-b9b7610fada52426828b90de68e68eaa_r.jpg\n",
            "2021-10-01 01:23:26,876 - ERROR - downloader - Exception caught when downloading file http://pic200.nipic.com/file/20181228/24805065_150046507262_2.jpg, error: HTTPConnectionPool(host='pic200.nipic.com', port=80): Max retries exceeded with url: /file/20181228/24805065_150046507262_2.jpg (Caused by ConnectTimeoutError(<urllib3.connection.HTTPConnection object at 0x7f918b6f8910>, 'Connection to pic200.nipic.com timed out. (connect timeout=5)')), remaining retry times: 2\n",
            "2021-10-01 01:23:32,219 - ERROR - downloader - Exception caught when downloading file http://pic200.nipic.com/file/20181228/24805065_150046507262_2.jpg, error: HTTPConnectionPool(host='pic200.nipic.com', port=80): Max retries exceeded with url: /file/20181228/24805065_150046507262_2.jpg (Caused by ConnectTimeoutError(<urllib3.connection.HTTPConnection object at 0x7f918b563e50>, 'Connection to pic200.nipic.com timed out. (connect timeout=5)')), remaining retry times: 1\n",
            "2021-10-01 01:23:37,317 - ERROR - downloader - Exception caught when downloading file http://pic200.nipic.com/file/20181228/24805065_150046507262_2.jpg, error: HTTPConnectionPool(host='pic200.nipic.com', port=80): Max retries exceeded with url: /file/20181228/24805065_150046507262_2.jpg (Caused by ConnectTimeoutError(<urllib3.connection.HTTPConnection object at 0x7f918b56f0d0>, 'Connection to pic200.nipic.com timed out. (connect timeout=5)')), remaining retry times: 0\n",
            "2021-10-01 01:23:37,806 - INFO - downloader - image #42\thttps://pic4.zhimg.com/v2-46571a3c53b9e2124c3dafd4625ee0fb_r.jpg\n",
            "2021-10-01 01:23:37,959 - INFO - downloader - image #43\thttps://pic3.zhimg.com/v2-83899564d2eb7707db2ab3cce32e1cc1_r.jpg\n",
            "2021-10-01 01:23:38,038 - INFO - parser - parsing result page https://www.bing.com/images/async?q=猫&first=60\n",
            "2021-10-01 01:23:38,082 - INFO - downloader - image #44\thttps://picb.zhimg.com/v2-b89648a5372417070e7c132d4e67b826_r.jpg\n",
            "2021-10-01 01:23:38,477 - INFO - downloader - image #45\thttps://pic2.zhimg.com/v2-8c1120b7095587608779eb1eee96078a_r.jpg\n",
            "2021-10-01 01:23:40,692 - INFO - downloader - image #46\thttps://img.zcool.cn/community/01eea85cc949dda801214168c7c5c4.jpg\n",
            "2021-10-01 01:23:42,041 - INFO - downloader - image #47\thttps://img.zcool.cn/community/01807f5da6c350a8012163ba8a2185.jpg\n",
            "2021-10-01 01:23:43,175 - INFO - downloader - image #48\thttps://img.zcool.cn/community/01ed745d391668a80120695c6d207d.jpg\n",
            "2021-10-01 01:23:44,315 - INFO - downloader - image #49\thttps://img.zcool.cn/community/01b40f5ce75412a801208f8b041016.jpg\n",
            "2021-10-01 01:23:44,825 - INFO - downloader - image #50\thttps://img.zcool.cn/community/012038554bbd3c000001bf7206ab3d.jpg\n",
            "2021-10-01 01:23:45,429 - INFO - parser - parsing result page https://www.bing.com/images/async?q=猫&first=80\n",
            "2021-10-01 01:23:47,250 - INFO - downloader - image #51\thttp://pic.cgcep.com/1509592853550.jpg\n",
            "2021-10-01 01:23:49,533 - INFO - downloader - image #52\thttps://consumer.gucheng.com/UploadFiles_6578/201710/2017103015454549.jpg\n",
            "2021-10-01 01:23:50,765 - INFO - downloader - image #53\thttps://img.zcool.cn/community/013b7d5d392318a8012187f4140585.jpg\n",
            "2021-10-01 01:23:51,260 - INFO - downloader - image #54\thttps://pic4.zhimg.com/v2-f6270727c08c1e47037d1cd19b935eba_r.jpg\n",
            "2021-10-01 01:23:51,453 - INFO - downloader - image #55\thttps://pic2.zhimg.com/v2-a75435520019c942803157bb96d2d09e_r.jpg\n",
            "2021-10-01 01:23:51,585 - INFO - downloader - image #56\thttps://pic4.zhimg.com/v2-faff9c794be222149efdc50651b6cbce_r.jpg\n",
            "2021-10-01 01:23:51,937 - INFO - downloader - image #57\thttps://pic2.zhimg.com/v2-58bd1a73905b00fb0faca92ba39dcf20_r.jpg\n",
            "2021-10-01 01:23:53,000 - INFO - downloader - image #58\thttps://img.zcool.cn/community/01cd4d5d65f217a8012187f44a8e68.jpg\n",
            "2021-10-01 01:23:53,370 - INFO - downloader - image #59\thttps://pic4.zhimg.com/v2-414e4bcd4e54cd44b2920b23f1dfd6f9_r.jpg\n",
            "2021-10-01 01:23:54,498 - INFO - downloader - image #60\thttp://i0.hdslb.com/bfs/archive/a5ba8594cfb3a840996f7d148a81fc7d0a5caf8c.jpg\n",
            "2021-10-01 01:23:55,886 - INFO - downloader - image #61\thttps://img.zcool.cn/community/017f3e58a10b20a8012060c8428ec3.jpg\n",
            "2021-10-01 01:23:57,019 - INFO - downloader - image #62\thttps://img.zcool.cn/community/01a5845d391e61a80120695c307988.jpg\n",
            "2021-10-01 01:23:58,674 - INFO - downloader - image #63\thttp://www.baobeita.com/upload/image/product/202003/10647300/553491c3-5547-4df3-8abc-a70ac0f4b506-large.jpg\n",
            "2021-10-01 01:23:59,025 - INFO - parser - no more page urls for thread parser-001 to parse\n",
            "2021-10-01 01:23:59,028 - INFO - parser - thread parser-001 exit\n",
            "2021-10-01 01:23:59,841 - INFO - downloader - image #64\thttps://img.zcool.cn/community/01101b5d5658ffa80120695c8e0e96.jpg\n",
            "2021-10-01 01:24:02,078 - INFO - downloader - image #65\thttps://pic1.zhimg.com/v2-cc72c6f0cf991c04a6d810e8bab611e1_r.jpg\n",
            "2021-10-01 01:24:03,005 - INFO - downloader - image #66\thttps://img.pconline.com.cn/images/upload/upc/tx/itbbs/1412/06/c3/301650_1417859235294_mthumb.jpg\n",
            "2021-10-01 01:24:03,376 - INFO - downloader - image #67\thttps://pic4.zhimg.com/v2-fc12200c8d43cbef3edc0398cf1118c6_r.jpg\n",
            "2021-10-01 01:24:11,997 - INFO - downloader - image #68\thttp://www.pp3.cn/uploads/allimg/200716/14-200G6161613.jpg\n",
            "2021-10-01 01:24:17,000 - INFO - downloader - no more download task for thread downloader-001\n",
            "2021-10-01 01:24:17,001 - INFO - downloader - thread downloader-001 exit\n",
            "2021-10-01 01:24:17,089 - INFO - icrawler.crawler - Crawling task done!\n"
          ]
        }
      ]
    },
    {
      "cell_type": "code",
      "metadata": {
        "colab": {
          "base_uri": "https://localhost:8080/"
        },
        "id": "_BUQ0gBoM_Sb",
        "outputId": "e39c6d53-23ad-4a5f-a9a9-6ae23df2aa62"
      },
      "source": [
        "# 犬の画像を100枚取得\n",
        "# crawler = GoogleImageCrawler(storage={\"root_dir\": \"dogs\"})\n",
        "# crawler.crawl(keyword=\"犬\", max_num=100)\n",
        "from icrawler.builtin import BingImageCrawler\n",
        "\n",
        "# 猫の画像を100枚取得\n",
        "crawler = BingImageCrawler(storage={\"root_dir\": \"dog\"})\n",
        "crawler.crawl(keyword=\"犬\", max_num=100)"
      ],
      "execution_count": 9,
      "outputs": [
        {
          "output_type": "stream",
          "name": "stderr",
          "text": [
            "2021-10-01 01:26:51,603 - INFO - icrawler.crawler - start crawling...\n",
            "2021-10-01 01:26:51,605 - INFO - icrawler.crawler - starting 1 feeder threads...\n",
            "2021-10-01 01:26:51,606 - INFO - feeder - thread feeder-001 exit\n",
            "2021-10-01 01:26:51,607 - INFO - icrawler.crawler - starting 1 parser threads...\n",
            "2021-10-01 01:26:51,611 - INFO - icrawler.crawler - starting 1 downloader threads...\n",
            "2021-10-01 01:26:52,240 - INFO - parser - parsing result page https://www.bing.com/images/async?q=犬&first=0\n",
            "2021-10-01 01:26:52,261 - INFO - downloader - skip downloading file 000001.jpg\n",
            "2021-10-01 01:26:52,263 - INFO - downloader - skip downloading file 000002.jpg\n",
            "2021-10-01 01:26:52,265 - INFO - downloader - skip downloading file 000003.jpg\n",
            "2021-10-01 01:26:52,268 - INFO - downloader - skip downloading file 000004.jpg\n",
            "2021-10-01 01:26:52,270 - INFO - downloader - skip downloading file 000005.jpg\n",
            "2021-10-01 01:26:52,273 - INFO - downloader - skip downloading file 000006.jpg\n",
            "2021-10-01 01:26:52,277 - INFO - downloader - skip downloading file 000007.jpg\n",
            "2021-10-01 01:26:52,280 - INFO - downloader - skip downloading file 000008.jpg\n",
            "2021-10-01 01:26:52,282 - INFO - downloader - skip downloading file 000009.jpg\n",
            "2021-10-01 01:26:52,285 - INFO - downloader - skip downloading file 000010.jpg\n",
            "2021-10-01 01:26:52,298 - INFO - downloader - skip downloading file 000011.jpg\n",
            "2021-10-01 01:26:52,301 - INFO - downloader - skip downloading file 000012.jpg\n",
            "2021-10-01 01:26:52,305 - INFO - downloader - skip downloading file 000013.jpg\n",
            "2021-10-01 01:26:52,307 - INFO - downloader - skip downloading file 000014.jpg\n",
            "2021-10-01 01:26:52,311 - INFO - downloader - skip downloading file 000015.jpg\n",
            "2021-10-01 01:26:52,314 - INFO - downloader - skip downloading file 000016.jpg\n",
            "2021-10-01 01:26:52,317 - INFO - downloader - skip downloading file 000017.jpg\n",
            "2021-10-01 01:26:52,319 - INFO - downloader - skip downloading file 000018.jpg\n",
            "2021-10-01 01:26:52,322 - INFO - downloader - skip downloading file 000019.jpg\n",
            "2021-10-01 01:26:52,325 - INFO - downloader - skip downloading file 000020.jpg\n",
            "2021-10-01 01:26:52,327 - INFO - downloader - skip downloading file 000021.jpg\n",
            "2021-10-01 01:26:52,330 - INFO - downloader - skip downloading file 000022.jpg\n",
            "2021-10-01 01:26:52,340 - INFO - downloader - skip downloading file 000023.jpg\n",
            "2021-10-01 01:26:52,347 - INFO - downloader - skip downloading file 000024.jpg\n",
            "2021-10-01 01:26:52,350 - INFO - downloader - skip downloading file 000025.jpg\n",
            "2021-10-01 01:26:52,355 - INFO - downloader - skip downloading file 000026.jpg\n",
            "2021-10-01 01:26:52,357 - INFO - downloader - skip downloading file 000027.jpg\n",
            "2021-10-01 01:26:52,579 - INFO - parser - parsing result page https://www.bing.com/images/async?q=犬&first=20\n",
            "2021-10-01 01:26:52,603 - INFO - downloader - skip downloading file 000028.jpg\n",
            "2021-10-01 01:26:52,605 - INFO - downloader - skip downloading file 000029.jpg\n",
            "2021-10-01 01:26:52,609 - INFO - downloader - skip downloading file 000030.jpg\n",
            "2021-10-01 01:26:52,614 - INFO - downloader - skip downloading file 000031.jpg\n",
            "2021-10-01 01:26:52,622 - INFO - downloader - skip downloading file 000032.jpg\n",
            "2021-10-01 01:26:52,623 - INFO - downloader - skip downloading file 000033.jpg\n",
            "2021-10-01 01:26:52,626 - INFO - downloader - skip downloading file 000034.jpg\n",
            "2021-10-01 01:26:52,629 - INFO - downloader - skip downloading file 000035.jpg\n",
            "2021-10-01 01:26:52,631 - INFO - downloader - skip downloading file 000036.jpg\n",
            "2021-10-01 01:26:52,633 - INFO - downloader - skip downloading file 000037.jpg\n",
            "2021-10-01 01:26:52,635 - INFO - downloader - skip downloading file 000038.jpg\n",
            "2021-10-01 01:26:52,640 - INFO - downloader - skip downloading file 000039.jpg\n",
            "2021-10-01 01:26:52,642 - INFO - downloader - skip downloading file 000040.jpg\n",
            "2021-10-01 01:26:52,647 - INFO - downloader - skip downloading file 000041.jpg\n",
            "2021-10-01 01:26:52,654 - INFO - downloader - skip downloading file 000042.jpg\n",
            "2021-10-01 01:26:52,656 - INFO - downloader - skip downloading file 000043.jpg\n",
            "2021-10-01 01:26:52,658 - INFO - downloader - skip downloading file 000044.jpg\n",
            "2021-10-01 01:26:52,661 - INFO - downloader - skip downloading file 000045.jpg\n",
            "2021-10-01 01:26:52,664 - INFO - downloader - skip downloading file 000046.jpg\n",
            "2021-10-01 01:26:52,870 - INFO - parser - parsing result page https://www.bing.com/images/async?q=犬&first=40\n",
            "2021-10-01 01:26:52,892 - INFO - downloader - skip downloading file 000047.jpg\n",
            "2021-10-01 01:26:52,893 - INFO - downloader - skip downloading file 000048.jpg\n",
            "2021-10-01 01:26:52,895 - INFO - downloader - skip downloading file 000049.jpg\n",
            "2021-10-01 01:26:52,897 - INFO - downloader - skip downloading file 000050.jpg\n",
            "2021-10-01 01:26:52,898 - INFO - downloader - skip downloading file 000051.jpg\n",
            "2021-10-01 01:26:52,902 - INFO - downloader - skip downloading file 000052.jpg\n",
            "2021-10-01 01:26:52,904 - INFO - downloader - skip downloading file 000053.jpg\n",
            "2021-10-01 01:26:52,906 - INFO - downloader - skip downloading file 000054.jpg\n",
            "2021-10-01 01:26:52,909 - INFO - downloader - skip downloading file 000055.jpg\n",
            "2021-10-01 01:26:52,916 - INFO - downloader - skip downloading file 000056.jpg\n",
            "2021-10-01 01:26:52,918 - INFO - downloader - skip downloading file 000057.jpg\n",
            "2021-10-01 01:26:52,921 - INFO - downloader - skip downloading file 000058.jpg\n",
            "2021-10-01 01:26:52,922 - INFO - downloader - skip downloading file 000059.jpg\n",
            "2021-10-01 01:26:52,925 - INFO - downloader - skip downloading file 000060.jpg\n",
            "2021-10-01 01:26:53,127 - INFO - parser - parsing result page https://www.bing.com/images/async?q=犬&first=60\n",
            "2021-10-01 01:26:53,149 - INFO - downloader - skip downloading file 000061.jpg\n",
            "2021-10-01 01:26:53,150 - INFO - downloader - skip downloading file 000062.jpg\n",
            "2021-10-01 01:26:53,879 - INFO - downloader - image #63\thttp://kousoturi-man.com/wp-content/uploads/2018/08/UNADJUSTEDNONRAW_thumb_711-1024x683.jpg\n",
            "2021-10-01 01:26:55,039 - INFO - downloader - image #64\thttps://media.dogpad.jp/dogpad_media/wp-content/uploads/2021/01/2023814_m.jpg\n",
            "2021-10-01 01:26:56,118 - INFO - downloader - image #65\thttps://www.mindshare.co.jp/wp/wp-content/uploads/2020/08/works_thumbnail_18.jpg\n",
            "2021-10-01 01:26:57,773 - INFO - downloader - image #66\thttps://loverinlabrador.site/wp-content/uploads/2019/08/2019-06-23-17.09.26-e1565325443756.jpg\n",
            "2021-10-01 01:26:58,357 - INFO - parser - parsing result page https://www.bing.com/images/async?q=犬&first=80\n",
            "2021-10-01 01:26:58,757 - INFO - downloader - image #67\thttps://qpet.jp/dog/wp-content/uploads/2017/06/142-4.jpg\n",
            "2021-10-01 01:26:59,514 - INFO - downloader - image #68\thttp://stat.ameba.jp/user_images/20150620/17/happy-smile-2014/47/ea/j/o0480064013342711517.jpg\n",
            "2021-10-01 01:26:59,865 - INFO - downloader - image #69\thttp://blogimg.goo.ne.jp/user_image/48/c6/4d5874e7fc1d706756cd32ec5bdde2b7.jpg\n",
            "2021-10-01 01:27:00,227 - INFO - downloader - image #70\thttps://stat.ameba.jp/user_images/20190214/18/satumahitomi/91/ad/j/o1080103314356112434.jpg\n",
            "2021-10-01 01:27:00,315 - INFO - downloader - image #71\thttp://blogimg.goo.ne.jp/user_image/16/bc/3482336d2be51043a8b1bb99097e9ee4.jpg\n",
            "2021-10-01 01:27:01,326 - INFO - downloader - image #72\thttps://stat.ameba.jp/user_images/20190304/20/macontact/86/84/j/o0800080014366368467.jpg\n",
            "2021-10-01 01:27:04,471 - INFO - downloader - image #73\thttps://dognoie.com/wp/wp-content/uploads/2020/10/DSC04656.jpg\n",
            "2021-10-01 01:27:05,440 - INFO - downloader - image #74\thttps://lostpet.jp/media/u0ip7x.jpg\n",
            "2021-10-01 01:27:06,856 - INFO - downloader - image #75\thttps://stat.ameba.jp/user_images/20200114/09/hunterotokojyuku/34/87/j/o1080144014695902450.jpg\n",
            "2021-10-01 01:27:06,931 - INFO - downloader - image #76\thttps://stat.ameba.jp/user_images/20160822/13/hiyofu/95/35/j/o0621078713729559644.jpg\n",
            "2021-10-01 01:27:07,080 - INFO - downloader - image #77\thttps://stat.ameba.jp/user_images/20170218/14/peacenyanko-hakodate/25/24/j/o1920256013871450972.jpg\n",
            "2021-10-01 01:27:07,662 - INFO - downloader - image #78\thttps://livedoor.blogimg.jp/petshop_matsuura/imgs/8/c/8c0bc25e.jpg\n",
            "2021-10-01 01:27:08,218 - INFO - downloader - image #79\thttp://mydognatsu.cocolog-nifty.com/photos/uncategorized/2009/04/14/0412_776.jpg\n",
            "2021-10-01 01:27:09,565 - INFO - downloader - image #80\thttps://breeder.aikenonline.jp/manual/img/107_3.jpg\n",
            "2021-10-01 01:27:09,666 - INFO - parser - no more page urls for thread parser-001 to parse\n",
            "2021-10-01 01:27:09,668 - INFO - parser - thread parser-001 exit\n",
            "2021-10-01 01:27:10,965 - INFO - downloader - image #81\thttp://koinu-hanbai.com/wp-content/uploads/image-154-e1476081256431.jpg\n",
            "2021-10-01 01:27:11,660 - INFO - downloader - image #82\thttps://lostpet.jp/media/u0i16i.jpg\n",
            "2021-10-01 01:27:12,976 - INFO - downloader - image #83\thttp://blogimg.goo.ne.jp/user_image/2b/c6/2baa8f4b3f86ba502e6fa3bfee51c4c4.jpg\n",
            "2021-10-01 01:27:13,092 - INFO - downloader - image #84\thttps://stat.ameba.jp/user_images/20181220/15/ikurakkuma-0726/89/02/j/o1080108014324006167.jpg\n",
            "2021-10-01 01:27:18,095 - INFO - downloader - no more download task for thread downloader-001\n",
            "2021-10-01 01:27:18,096 - INFO - downloader - thread downloader-001 exit\n",
            "2021-10-01 01:27:18,658 - INFO - icrawler.crawler - Crawling task done!\n"
          ]
        }
      ]
    },
    {
      "cell_type": "markdown",
      "metadata": {
        "id": "JPSO53Q0Om7H"
      },
      "source": [
        "# データを整形する"
      ]
    },
    {
      "cell_type": "code",
      "metadata": {
        "colab": {
          "base_uri": "https://localhost:8080/"
        },
        "id": "bP1NPOqRM_0y",
        "outputId": "dbe085be-a778-44f4-fefe-bea557f054f0"
      },
      "source": [
        "from PIL import Image\n",
        "import os, glob\n",
        "import numpy as np\n",
        "from PIL import ImageFile\n",
        "# IOError: image file is truncated (0 bytes not processed)回避のため\n",
        "ImageFile.LOAD_TRUNCATED_IMAGES = True\n",
        "\n",
        "classes = [\"dog\", \"cat\"]\n",
        "num_classes = len(classes)\n",
        "image_size = 64\n",
        "num_testdata = 25\n",
        "\n",
        "X_train = []\n",
        "X_test  = []\n",
        "y_train = []\n",
        "y_test  = []\n",
        "\n",
        "for index, classlabel in enumerate(classes):\n",
        "    photos_dir = \"./\" + classlabel\n",
        "    files = glob.glob(photos_dir + \"/*.jpg\")\n",
        "    for i, file in enumerate(files):\n",
        "        image = Image.open(file)\n",
        "        image = image.convert(\"RGB\")\n",
        "        image = image.resize((image_size, image_size))\n",
        "        data = np.asarray(image)\n",
        "        if i < num_testdata:\n",
        "            X_test.append(data)\n",
        "            y_test.append(index)\n",
        "        else:\n",
        "\n",
        "            # angleに代入される値\n",
        "            # -20\n",
        "            # -15\n",
        "            # -10\n",
        "            #  -5\n",
        "            # 0\n",
        "            # 5\n",
        "            # 10\n",
        "            # 15\n",
        "            # 画像を5度ずつ回転\n",
        "            for angle in range(-20, 20, 5):\n",
        "\n",
        "                img_r = image.rotate(angle)\n",
        "                data = np.asarray(img_r)\n",
        "                X_train.append(data)\n",
        "                y_train.append(index)\n",
        "                # FLIP_LEFT_RIGHT　は 左右反転\n",
        "                img_trains = img_r.transpose(Image.FLIP_LEFT_RIGHT)\n",
        "                data = np.asarray(img_trains)\n",
        "                X_train.append(data)\n",
        "                y_train.append(index)\n",
        "\n",
        "X_train = np.array(X_train)\n",
        "X_test  = np.array(X_test)\n",
        "y_train = np.array(y_train)\n",
        "y_test  = np.array(y_test)\n",
        "\n",
        "xy = (X_train, X_test, y_train, y_test)\n",
        "np.save(\"./dog_cat.npy\", xy)"
      ],
      "execution_count": 10,
      "outputs": [
        {
          "output_type": "stream",
          "name": "stderr",
          "text": [
            "/usr/local/lib/python3.7/dist-packages/numpy/core/_asarray.py:136: VisibleDeprecationWarning: Creating an ndarray from ragged nested sequences (which is a list-or-tuple of lists-or-tuples-or ndarrays with different lengths or shapes) is deprecated. If you meant to do this, you must specify 'dtype=object' when creating the ndarray\n",
            "  return array(a, dtype, copy=False, order=order, subok=True)\n"
          ]
        }
      ]
    },
    {
      "cell_type": "markdown",
      "metadata": {
        "id": "HvAiAIxZO3Wd"
      },
      "source": [
        "# 学習する\n"
      ]
    },
    {
      "cell_type": "code",
      "metadata": {
        "colab": {
          "base_uri": "https://localhost:8080/"
        },
        "id": "ZZ_cFaRKQzNq",
        "outputId": "d5091ad8-928b-48cf-c7ef-566657c4b446"
      },
      "source": [
        "!pip install keras\n",
        "\n"
      ],
      "execution_count": null,
      "outputs": [
        {
          "output_type": "stream",
          "name": "stdout",
          "text": [
            "Requirement already satisfied: keras in /usr/local/lib/python3.7/dist-packages (2.6.0)\n"
          ]
        }
      ]
    },
    {
      "cell_type": "code",
      "metadata": {
        "id": "wTNPv2LkOH8z",
        "colab": {
          "base_uri": "https://localhost:8080/"
        },
        "outputId": "cc6e8c53-27b0-48f1-ad78-d583745e927e"
      },
      "source": [
        "import keras\n",
        "from tensorflow.keras import optimizers\n",
        "from keras.models import Sequential\n",
        "from keras.layers import Conv2D, MaxPooling2D\n",
        "from keras.layers import Activation, Dropout, Flatten, Dense\n",
        "# from keras.optimizers import RMSprop\n",
        "from keras.utils import np_utils\n",
        "\n",
        "import numpy as np\n",
        "\n",
        "classes = [\"dog\", \"cat\"]\n",
        "num_classes = len(classes)\n",
        "image_size = 64\n",
        "\n",
        "\"\"\"\n",
        "データを読み込む関数\n",
        "\"\"\"\n",
        "def load_data():\n",
        "    X_train, X_test, y_train, y_test = np.load(\"./dog_cat.npy\", allow_pickle=True)\n",
        "    # 入力データの各画素値を0-1の範囲で正規化(学習コストを下げるため)\n",
        "    X_train = X_train.astype(\"float\") / 255\n",
        "    X_test  = X_test.astype(\"float\") / 255\n",
        "    # to_categorical()にてラベルをone hot vector化\n",
        "    y_train = np_utils.to_categorical(y_train, num_classes)\n",
        "    y_test  = np_utils.to_categorical(y_test, num_classes)\n",
        "\n",
        "    return X_train, y_train, X_test, y_test\n",
        "\n",
        "\"\"\"\n",
        "モデルを学習する関数\n",
        "\"\"\"\n",
        "def train(X, y, X_test, y_test):\n",
        "    model = Sequential()\n",
        "\n",
        "    # Xは(1200, 64, 64, 3)\n",
        "    # X.shape[1:]とすることで、(64, 64, 3)となり、入力にすることが可能です。\n",
        "    model.add(Conv2D(32,(3,3), padding='same',input_shape=X.shape[1:]))\n",
        "    model.add(Activation('relu'))\n",
        "    model.add(Conv2D(32,(3,3)))\n",
        "    model.add(Activation('relu'))\n",
        "    model.add(MaxPooling2D(pool_size=(2,2)))\n",
        "    model.add(Dropout(0.1))\n",
        "\n",
        "    model.add(Conv2D(64,(3,3), padding='same'))\n",
        "    model.add(Activation('relu'))\n",
        "    model.add(Conv2D(64,(3,3)))\n",
        "    model.add(Activation('relu'))\n",
        "    model.add(MaxPooling2D(pool_size=(2,2)))\n",
        "    model.add(Dropout(0.25))\n",
        "\n",
        "    model.add(Flatten())\n",
        "    model.add(Dense(512))\n",
        "    model.add(Activation('relu'))\n",
        "    model.add(Dropout(0.45))\n",
        "    model.add(Dense(2))\n",
        "    model.add(Activation('softmax'))\n",
        "\n",
        "    # https://keras.io/ja/optimizers/\n",
        "    # 今回は、最適化アルゴリズムにRMSpropを利用\n",
        "    opt = optimizers.RMSprop(lr=0.00005, decay=1e-6)\n",
        "    # https://keras.io/ja/models/sequential/\n",
        "    model.compile(loss='categorical_crossentropy',optimizer=opt,metrics=['accuracy'])\n",
        "    model.fit(X, y, batch_size=28, epochs=40)\n",
        "    # HDF5ファイルにKerasのモデルを保存\n",
        "    model.save('./cnn.h5')\n",
        "\n",
        "    return model\n",
        "\n",
        "\"\"\"\n",
        "メイン関数\n",
        "データの読み込みとモデルの学習を行います。\n",
        "\"\"\"\n",
        "def main():\n",
        "    # データの読み込み\n",
        "    X_train, y_train, X_test, y_test = load_data()\n",
        "\n",
        "    # モデルの学習\n",
        "    model = train(X_train, y_train, X_test, y_test)\n",
        "\n",
        "main()"
      ],
      "execution_count": 11,
      "outputs": [
        {
          "output_type": "stream",
          "name": "stderr",
          "text": [
            "/usr/local/lib/python3.7/dist-packages/keras/optimizer_v2/optimizer_v2.py:356: UserWarning: The `lr` argument is deprecated, use `learning_rate` instead.\n",
            "  \"The `lr` argument is deprecated, use `learning_rate` instead.\")\n"
          ]
        },
        {
          "output_type": "stream",
          "name": "stdout",
          "text": [
            "Epoch 1/40\n",
            "59/59 [==============================] - 34s 31ms/step - loss: 0.6287 - accuracy: 0.6471\n",
            "Epoch 2/40\n",
            "59/59 [==============================] - 2s 27ms/step - loss: 0.5554 - accuracy: 0.7157\n",
            "Epoch 3/40\n",
            "59/59 [==============================] - 2s 27ms/step - loss: 0.5190 - accuracy: 0.7598\n",
            "Epoch 4/40\n",
            "59/59 [==============================] - 2s 28ms/step - loss: 0.4978 - accuracy: 0.7598\n",
            "Epoch 5/40\n",
            "59/59 [==============================] - 2s 28ms/step - loss: 0.4783 - accuracy: 0.7763\n",
            "Epoch 6/40\n",
            "59/59 [==============================] - 2s 27ms/step - loss: 0.4518 - accuracy: 0.7929\n",
            "Epoch 7/40\n",
            "59/59 [==============================] - 2s 27ms/step - loss: 0.4373 - accuracy: 0.8082\n",
            "Epoch 8/40\n",
            "59/59 [==============================] - 2s 27ms/step - loss: 0.4207 - accuracy: 0.8113\n",
            "Epoch 9/40\n",
            "59/59 [==============================] - 2s 28ms/step - loss: 0.3958 - accuracy: 0.8248\n",
            "Epoch 10/40\n",
            "59/59 [==============================] - 2s 27ms/step - loss: 0.3789 - accuracy: 0.8358\n",
            "Epoch 11/40\n",
            "59/59 [==============================] - 2s 27ms/step - loss: 0.3671 - accuracy: 0.8431\n",
            "Epoch 12/40\n",
            "59/59 [==============================] - 2s 27ms/step - loss: 0.3464 - accuracy: 0.8505\n",
            "Epoch 13/40\n",
            "59/59 [==============================] - 2s 27ms/step - loss: 0.3172 - accuracy: 0.8701\n",
            "Epoch 14/40\n",
            "59/59 [==============================] - 2s 27ms/step - loss: 0.3178 - accuracy: 0.8664\n",
            "Epoch 15/40\n",
            "59/59 [==============================] - 2s 28ms/step - loss: 0.2885 - accuracy: 0.8811\n",
            "Epoch 16/40\n",
            "59/59 [==============================] - 2s 27ms/step - loss: 0.2703 - accuracy: 0.8891\n",
            "Epoch 17/40\n",
            "59/59 [==============================] - 2s 28ms/step - loss: 0.2563 - accuracy: 0.9032\n",
            "Epoch 18/40\n",
            "59/59 [==============================] - 2s 27ms/step - loss: 0.2368 - accuracy: 0.9062\n",
            "Epoch 19/40\n",
            "59/59 [==============================] - 2s 27ms/step - loss: 0.2199 - accuracy: 0.9216\n",
            "Epoch 20/40\n",
            "59/59 [==============================] - 2s 27ms/step - loss: 0.2059 - accuracy: 0.9301\n",
            "Epoch 21/40\n",
            "59/59 [==============================] - 2s 27ms/step - loss: 0.1836 - accuracy: 0.9369\n",
            "Epoch 22/40\n",
            "59/59 [==============================] - 2s 27ms/step - loss: 0.1675 - accuracy: 0.9424\n",
            "Epoch 23/40\n",
            "59/59 [==============================] - 2s 28ms/step - loss: 0.1671 - accuracy: 0.9381\n",
            "Epoch 24/40\n",
            "59/59 [==============================] - 2s 27ms/step - loss: 0.1427 - accuracy: 0.9559\n",
            "Epoch 25/40\n",
            "59/59 [==============================] - 2s 27ms/step - loss: 0.1304 - accuracy: 0.9559\n",
            "Epoch 26/40\n",
            "59/59 [==============================] - 2s 28ms/step - loss: 0.1173 - accuracy: 0.9596\n",
            "Epoch 27/40\n",
            "59/59 [==============================] - 2s 27ms/step - loss: 0.1071 - accuracy: 0.9681\n",
            "Epoch 28/40\n",
            "59/59 [==============================] - 2s 27ms/step - loss: 0.0904 - accuracy: 0.9755\n",
            "Epoch 29/40\n",
            "59/59 [==============================] - 2s 27ms/step - loss: 0.0848 - accuracy: 0.9718\n",
            "Epoch 30/40\n",
            "59/59 [==============================] - 2s 27ms/step - loss: 0.0703 - accuracy: 0.9841\n",
            "Epoch 31/40\n",
            "59/59 [==============================] - 2s 27ms/step - loss: 0.0753 - accuracy: 0.9761\n",
            "Epoch 32/40\n",
            "59/59 [==============================] - 2s 27ms/step - loss: 0.0605 - accuracy: 0.9841\n",
            "Epoch 33/40\n",
            "59/59 [==============================] - 2s 27ms/step - loss: 0.0583 - accuracy: 0.9828\n",
            "Epoch 34/40\n",
            "59/59 [==============================] - 2s 27ms/step - loss: 0.0519 - accuracy: 0.9902\n",
            "Epoch 35/40\n",
            "59/59 [==============================] - 2s 27ms/step - loss: 0.0431 - accuracy: 0.9920\n",
            "Epoch 36/40\n",
            "59/59 [==============================] - 2s 27ms/step - loss: 0.0408 - accuracy: 0.9890\n",
            "Epoch 37/40\n",
            "59/59 [==============================] - 2s 27ms/step - loss: 0.0403 - accuracy: 0.9884\n",
            "Epoch 38/40\n",
            "59/59 [==============================] - 2s 27ms/step - loss: 0.0298 - accuracy: 0.9951\n",
            "Epoch 39/40\n",
            "59/59 [==============================] - 2s 27ms/step - loss: 0.0287 - accuracy: 0.9939\n",
            "Epoch 40/40\n",
            "59/59 [==============================] - 2s 27ms/step - loss: 0.0298 - accuracy: 0.9914\n"
          ]
        }
      ]
    },
    {
      "cell_type": "code",
      "metadata": {
        "id": "SqnIMpL2R-FI"
      },
      "source": [
        ""
      ],
      "execution_count": null,
      "outputs": []
    },
    {
      "cell_type": "markdown",
      "metadata": {
        "id": "vYB7QxSWanWn"
      },
      "source": [
        "# 推論"
      ]
    },
    {
      "cell_type": "code",
      "metadata": {
        "colab": {
          "base_uri": "https://localhost:8080/"
        },
        "id": "s7cpBxY2apjk",
        "outputId": "e34831fe-1f0e-4b79-ae49-887b7c3f6507"
      },
      "source": [
        "import keras\n",
        "import sys, os\n",
        "import numpy as np\n",
        "from keras.models import load_model\n",
        "\n",
        "imsize = (64, 64)\n",
        "\n",
        "\"\"\"\n",
        "dog1.jpgというファイル名の画像をGoogle Colab上にアップロードする方法は2通りあります。\n",
        "1つが、下記のコードを実行し画像をアップロードする方法\n",
        "from google.colab import files\n",
        "uploaded = files.upload()\n",
        "2つが、Colab左メニューの>アイコンを押して、目次、コード スニペット、ファイル\n",
        "の3つ表示されるますが、右のファイルタブから画像をアップロードする方法です。\n",
        "このファイルタブをクリックするとアップロードと更新の2つがありますが、\n",
        "アップロードを押すと画像をアップロードすることが可能です。\n",
        "\"\"\"\n",
        "\n",
        "testpic     = \"./dog1.jpg\"\n",
        "keras_param = \"./cnn.h5\"\n",
        "\n",
        "def load_image(path):\n",
        "    img = Image.open(path)\n",
        "    img = img.convert('RGB')\n",
        "    # 学習時に、(64, 64, 3)で学習したので、画像の縦・横は今回 変数imsizeの(64, 64)にリサイズします。\n",
        "    img = img.resize(imsize)\n",
        "    # 画像データをnumpy配列の形式に変更\n",
        "    img = np.asarray(img)\n",
        "    img = img / 255.0\n",
        "    return img\n",
        "\n",
        "model = load_model(keras_param)\n",
        "img = load_image(testpic)\n",
        "prd = model.predict(np.array([img]))\n",
        "print(prd) # 精度の表示\n",
        "prelabel = np.argmax(prd, axis=1)\n",
        "if prelabel == 0:\n",
        "    print(\">>> 犬\")\n",
        "elif prelabel == 1:\n",
        "    print(\">>> 猫\")"
      ],
      "execution_count": 13,
      "outputs": [
        {
          "output_type": "stream",
          "name": "stdout",
          "text": [
            "[[0.00717971 0.9928203 ]]\n",
            ">>> 猫\n"
          ]
        }
      ]
    },
    {
      "cell_type": "code",
      "metadata": {
        "id": "SE6eaiexaqEt"
      },
      "source": [
        ""
      ],
      "execution_count": null,
      "outputs": []
    }
  ]
}